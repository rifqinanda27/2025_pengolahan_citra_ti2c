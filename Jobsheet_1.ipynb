{
  "nbformat": 4,
  "nbformat_minor": 0,
  "metadata": {
    "colab": {
      "provenance": [],
      "authorship_tag": "ABX9TyNz9e/Tt6QWaWqDSJHDmdJY",
      "include_colab_link": true
    },
    "kernelspec": {
      "name": "python3",
      "display_name": "Python 3"
    },
    "language_info": {
      "name": "python"
    }
  },
  "cells": [
    {
      "cell_type": "markdown",
      "metadata": {
        "id": "view-in-github",
        "colab_type": "text"
      },
      "source": [
        "<a href=\"https://colab.research.google.com/github/rifqinanda27/2025_pengolahan_citra_ti2c/blob/main/Jobsheet_1.ipynb\" target=\"_parent\"><img src=\"https://colab.research.google.com/assets/colab-badge.svg\" alt=\"Open In Colab\"/></a>"
      ]
    },
    {
      "cell_type": "markdown",
      "source": [
        "#Jobsheet 1 - Dasar Berkas Gambar (Citra)"
      ],
      "metadata": {
        "id": "2s6LVglYxXDW"
      }
    },
    {
      "cell_type": "markdown",
      "source": [
        "## Praktikum 1 : Mendifinisikan Istilah Bit, byte, kilobyte, megabyte dll dengan citra"
      ],
      "metadata": {
        "id": "JkBfP5BSxtfI"
      }
    },
    {
      "cell_type": "code",
      "source": [],
      "metadata": {
        "id": "pkjfw-B0yGEc"
      },
      "execution_count": null,
      "outputs": []
    }
  ]
}